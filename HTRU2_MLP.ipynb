{
 "cells": [
  {
   "cell_type": "markdown",
   "metadata": {},
   "source": [
    "Start by importing the PyTorch components that we'll be using:"
   ]
  },
  {
   "cell_type": "code",
   "execution_count": 1,
   "metadata": {},
   "outputs": [],
   "source": [
    "import torch\n",
    "import torch.nn as nn\n",
    "import torch.nn.functional as F\n",
    "from torchvision import datasets, transforms\n",
    "from torch.autograd import Variable\n",
    "import torch.utils.data as Data"
   ]
  },
  {
   "cell_type": "markdown",
   "metadata": {},
   "source": [
    "Then some standard library imports:"
   ]
  },
  {
   "cell_type": "code",
   "execution_count": 2,
   "metadata": {},
   "outputs": [],
   "source": [
    "import numpy as np\n",
    "import pandas as pd\n",
    "import pylab as pl\n",
    "import time"
   ]
  },
  {
   "cell_type": "markdown",
   "metadata": {},
   "source": [
    "Import a custom data loader code:"
   ]
  },
  {
   "cell_type": "code",
   "execution_count": 3,
   "metadata": {},
   "outputs": [],
   "source": [
    "from sdss_datatools import SDSSDataset, load_sdss"
   ]
  },
  {
   "cell_type": "markdown",
   "metadata": {},
   "source": [
    "---\n",
    "\n",
    "This next cell contains all the user defined variables for running our network training."
   ]
  },
  {
   "cell_type": "code",
   "execution_count": 4,
   "metadata": {},
   "outputs": [],
   "source": [
    "epochs        = 100                 # number of training epochs\n",
    "batch_size    = 32                  # number of samples per batch\n",
    "input_size    = 10                  # The number of features\n",
    "hidden_size   = 400                 # The number of nodes at the hidden layer\n",
    "num_classes   = 3                   # The number of output classes. In this case: [star, galaxy, quasar]\n",
    "learning_rate = 1e-4                # The speed of convergence\n",
    "momentum      = 9e-1                # momentum for optimizer\n",
    "decay         = 1e-6                # decay for optimizer\n",
    "datapath      = \"./sdss_10k.pkl\"    # path to data set\n",
    "verbose       = False               # flag for printing out stats at each epoch"
   ]
  },
  {
   "cell_type": "markdown",
   "metadata": {},
   "source": [
    "In this next cell we are checking whether there is a GPU available for us to use. The `torch.cuda.is_available()` function returns a boolean (T/F), which lets us know. We can then set a `device` variable in our code that specifies which one of the available devices (GPU or CPU) we want to use. "
   ]
  },
  {
   "cell_type": "code",
   "execution_count": null,
   "metadata": {},
   "outputs": [],
   "source": [
    "use_cuda = torch.cuda.is_available()"
   ]
  },
  {
   "cell_type": "code",
   "execution_count": 5,
   "metadata": {},
   "outputs": [
    {
     "name": "stdout",
     "output_type": "stream",
     "text": [
      "Device:  cpu\n"
     ]
    }
   ],
   "source": [
    "device = torch.device(\"cuda\" if use_cuda else \"cpu\")\n",
    "kwargs = {'num_workers': 1, 'pin_memory': True} if use_cuda else {}\n",
    "print(\"Device: \",device)"
   ]
  },
  {
   "cell_type": "code",
   "execution_count": 6,
   "metadata": {},
   "outputs": [],
   "source": [
    "if use_cuda:\n",
    "    print('__CUDNN VERSION:', torch.backends.cudnn.version())\n",
    "    print('__Number CUDA Devices:', torch.cuda.device_count())\n",
    "    print('__CUDA Device Name:',torch.cuda.get_device_name(0))\n",
    "    print('__CUDA Device Total Memory [GB]:',torch.cuda.get_device_properties(0).total_memory/1e9)"
   ]
  },
  {
   "cell_type": "markdown",
   "metadata": {},
   "source": [
    "---\n",
    "\n",
    "Here we define the neural network that we'll be using. This is a simple fully-connected neural network, otherwise known as a *multi-layer perceptron* (MLP). It has two hidden layers, both with the same number of neurons (`hidden_dim`). The order of the layers for a forward pass through the network is specified in the `forward` function. You can see that each fully-connected layer is followed by a [ReLU activation function](https://ml-cheatsheet.readthedocs.io/en/latest/activation_functions.html#relu). The function then returns an unnormalised vector of outputs (`x`; also referred to as *logits*) and a vector of normalised \"probabilities\" for `x`, calculated using the [SoftMax function](https://ml-cheatsheet.readthedocs.io/en/latest/activation_functions.html#softmax)."
   ]
  },
  {
   "cell_type": "code",
   "execution_count": 7,
   "metadata": {},
   "outputs": [],
   "source": [
    "class Classifier_MLP(nn.Module):\n",
    "    def __init__(self, in_dim, hidden_dim, out_dim):\n",
    "        super().__init__()\n",
    "        \n",
    "        self.h1  = nn.Linear(in_dim, hidden_dim)\n",
    "        self.h2  = nn.Linear(hidden_dim, hidden_dim)\n",
    "        self.out = nn.Linear(hidden_dim, out_dim)\n",
    "        self.out_dim = out_dim\n",
    "\n",
    "        # weight initialisation:\n",
    "        # following: https://github.com/pytorch/vision/blob/master/torchvision/models/resnet.py\n",
    "        for m in self.modules():\n",
    "            if isinstance(m, nn.Linear):\n",
    "                y = m.in_features\n",
    "                nn.init.normal_(m.weight, 0, 1/np.sqrt(y))\n",
    "                nn.init.constant_(m.bias, 0)\n",
    "\n",
    "\n",
    "    def forward(self, x):\n",
    "        \n",
    "        x = F.relu(self.h1(x))\n",
    "        x = F.relu(self.h2(x))\n",
    "        x = self.out(x)\n",
    "        \n",
    "        return x, F.softmax(x, dim=1)"
   ]
  },
  {
   "cell_type": "markdown",
   "metadata": {},
   "source": [
    "---\n",
    "\n",
    "This is where the main body of the code really starts. First we load the data set.\n",
    "\n",
    "Here we're making use of the PyTorch `DataLoader` functionality. This is going to be useful later when we want to load data during our training loop."
   ]
  },
  {
   "cell_type": "code",
   "execution_count": 8,
   "metadata": {},
   "outputs": [],
   "source": [
    "train_features, train_labels, valid_features, valid_labels = load_sdss(datapath)\n",
    "\n",
    "train_data = SDSSDataset(train_features, train_labels, transforms=None, normalise=True)\n",
    "train_loader = torch.utils.data.DataLoader(train_data, batch_size=batch_size, shuffle=True, **kwargs)\n",
    "\n",
    "valid_data = SDSSDataset(valid_features, valid_labels, transforms=None, normalise=True)\n",
    "valid_loader = torch.utils.data.DataLoader(valid_data, batch_size=batch_size, shuffle=True, **kwargs)\n"
   ]
  },
  {
   "cell_type": "markdown",
   "metadata": {},
   "source": [
    "Next we need to specify that we're using the `Classifier_MLP` model that we specified above and pass it the parameters it requires (`input_size`, `hidden_dim`, `out_dim`). \n",
    "\n",
    "We also specify which optimizer we'll use to train our network. Here I've implemented a classic [Stochastic Gradient Descent](https://en.wikipedia.org/wiki/Stochastic_gradient_descent) (SGD) optimiser, but there are [a wide range of optimizers available in the PyTorch library](https://pytorch.org/docs/stable/optim.html#algorithms). For most recent applications the [Adam](https://arxiv.org/abs/1412.6980) optimizer is used.\n",
    "\n",
    "[DataParallel explainer](https://medium.com/huggingface/training-larger-batches-practical-tips-on-1-gpu-multi-gpu-distributed-setups-ec88c3e51255)"
   ]
  },
  {
   "cell_type": "code",
   "execution_count": 9,
   "metadata": {},
   "outputs": [],
   "source": [
    "if use_cuda:\n",
    "    c = torch.cuda.memory_reserved(0)\n",
    "    a = torch.cuda.memory_allocated(0)\n",
    "    print((c-a)/1e9)"
   ]
  },
  {
   "cell_type": "code",
   "execution_count": 10,
   "metadata": {},
   "outputs": [],
   "source": [
    "model = Classifier_MLP(in_dim=input_size, hidden_dim=hidden_size, out_dim=num_classes).to(device=device)\n",
    "if device==\"cuda\" and torch.cuda.device_count() > 1:\n",
    "    model = nn.DataParallel(model, device_ids=[0, 1])\n",
    "\n",
    "optimizer = torch.optim.SGD(model.parameters(), lr=learning_rate, momentum=momentum)"
   ]
  },
  {
   "cell_type": "code",
   "execution_count": 11,
   "metadata": {},
   "outputs": [],
   "source": [
    "if use_cuda:\n",
    "    c = torch.cuda.memory_reserved(0)\n",
    "    a = torch.cuda.memory_allocated(0)\n",
    "    print((c-a)/1e9)"
   ]
  },
  {
   "cell_type": "markdown",
   "metadata": {},
   "source": [
    "The next cell contains the training loop for optimizing the parameters of our neural network. To train the network we loop through the full training data set multiple times. Each loop is called an *epoch*. However, we don't read the full dataset all at once in an individual epoch, instead we split it into *mini-batches* and we use the optimization algorithm to update the network parameters after each batch. \n",
    "\n",
    "The `train_loader` that we specified earlier using the PyTorch `DataLoader` breaks up the full dataset into batches automatically and allows us to load the feature data (`x_train`) and the label data (`y_train`) for each batch separately. Moreover, because we specified `shuffle=True` when we defined the `train_loader` the full datasets will be shuffled on each epoch, so that we aren't optimising over an identical sequence of samples in every loop. \n",
    "\n",
    "PyTorch models (`nn.Module`) can be set into either training or evaluation mode. For the loop we've defined here this setting does not make any difference as we do not use any layers that perform differently during evaluation (e.g. dropout, batch normalisation, etc. ) However, it's included here for completeness. "
   ]
  },
  {
   "cell_type": "code",
   "execution_count": 12,
   "metadata": {},
   "outputs": [
    {
     "name": "stdout",
     "output_type": "stream",
     "text": [
      "Finished Training\n",
      "Final validation error:  3.165322580645158 %\n",
      "Run time [s]:  183.70896315574646\n"
     ]
    }
   ],
   "source": [
    "start = time.time()\n",
    "\n",
    "epoch_trainaccs, epoch_validaccs = [], []\n",
    "epoch_trainloss, epoch_validloss = [], []\n",
    "\n",
    "for epoch in range(epochs):  # loop over the dataset multiple times\n",
    "\n",
    "    # training loop for this epoch\n",
    "    model.train() # set the model into training mode\n",
    "    \n",
    "    train_loss, train_accs=[],[]; acc = 0\n",
    "    for batch, (x_train, y_train) in enumerate(train_loader):\n",
    "        \n",
    "        x_train, y_train = x_train.to(device), y_train.to(device)\n",
    "        \n",
    "        model.zero_grad()\n",
    "        pred, prob = model(x_train)\n",
    "        \n",
    "        acc = (prob.argmax(dim=-1) == y_train).to(torch.float32).mean()\n",
    "        train_accs.append(acc.mean().item())\n",
    "        \n",
    "        loss = F.cross_entropy(pred, y_train)\n",
    "        train_loss.append(loss.item())\n",
    "        \n",
    "        loss.backward()\n",
    "        optimizer.step()\n",
    "\n",
    "    if verbose:\n",
    "        print('Epoch: {}, Train Loss: {:4f}'.format(epoch, np.mean(train_loss), np.mean(train_accs)))\n",
    "\n",
    "    # validation loop for this epoch:\n",
    "    model.eval() # set the model into evaluation mode\n",
    "    with torch.no_grad():  # turn off the gradient calculations\n",
    "        \n",
    "        valid_loss, valid_accs = [], []; acc = 0\n",
    "        for i, (x_valid, y_valid) in enumerate(valid_loader):\n",
    "            \n",
    "            x_valid, y_valid = x_valid.to(device), y_valid.to(device)\n",
    "            \n",
    "            pred, prob = model(x_valid)\n",
    "            \n",
    "            loss = F.cross_entropy(pred, y_valid)\n",
    "            \n",
    "            acc = (prob.argmax(dim=-1) == y_valid).to(torch.float32).mean()\n",
    "            valid_loss.append(loss.item())\n",
    "            valid_accs.append(acc.item())\n",
    "\n",
    "    if verbose:\n",
    "        print('Validation Loss: {:4f}, Validation Accuracy: {:4f}'.format(np.mean(valid_loss), np.mean(valid_accs)))\n",
    "\n",
    "    epoch_trainaccs.append(np.mean(train_accs))\n",
    "    epoch_validaccs.append(np.mean(valid_accs))\n",
    "\n",
    "    epoch_trainloss.append(np.mean(train_loss))\n",
    "    epoch_validloss.append(np.mean(valid_loss))\n",
    "\n",
    "print('Finished Training')\n",
    "print(\"Final validation error: \",100.*(1 - epoch_validaccs[-1]),\"%\")\n",
    "\n",
    "if use_cuda: torch.cuda.synchronize()\n",
    "end = time.time()\n",
    "print(\"Run time [s]: \",end-start)"
   ]
  },
  {
   "cell_type": "code",
   "execution_count": 13,
   "metadata": {},
   "outputs": [
    {
     "data": {
      "image/png": "[encoded data removed]",
      "text/plain": [
       "<Figure size 432x288 with 1 Axes>"
      ]
     },
     "metadata": {
      "needs_background": "light"
     },
     "output_type": "display_data"
    }
   ],
   "source": [
    "pl.subplot(111)\n",
    "pl.plot(epoch_trainloss, label=\"training\")\n",
    "pl.plot(epoch_validloss, label=\"validation\")\n",
    "pl.xlabel(\"Epoch\")\n",
    "pl.ylabel(\"Loss\")\n",
    "pl.legend()\n",
    "pl.show()"
   ]
  },
  {
   "cell_type": "code",
   "execution_count": 14,
   "metadata": {},
   "outputs": [
    {
     "data": {
      "image/png": "[encoded data removed]",
      "text/plain": [
       "<Figure size 432x288 with 1 Axes>"
      ]
     },
     "metadata": {
      "needs_background": "light"
     },
     "output_type": "display_data"
    }
   ],
   "source": [
    "err = len(valid_data)*(1.-np.array(epoch_validaccs))\n",
    "pl.subplot(111)\n",
    "pl.plot(err, label=\"validation\")\n",
    "pl.xlabel(\"Epoch\")\n",
    "pl.ylabel(\"# Errors\")\n",
    "pl.legend()\n",
    "pl.show()"
   ]
  },
  {
   "cell_type": "code",
   "execution_count": null,
   "metadata": {},
   "outputs": [],
   "source": []
  }
 ],
 "metadata": {
  "kernelspec": {
   "display_name": "Python 3",
   "language": "python",
   "name": "python3"
  },
  "language_info": {
   "codemirror_mode": {
    "name": "ipython",
    "version": 3
   },
   "file_extension": ".py",
   "mimetype": "text/x-python",
   "name": "python",
   "nbconvert_exporter": "python",
   "pygments_lexer": "ipython3",
   "version": "3.6.7"
  }
 },
 "nbformat": 4,
 "nbformat_minor": 4
}
