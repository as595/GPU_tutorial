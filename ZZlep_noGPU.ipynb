{
 "cells": [
  {
   "cell_type": "markdown",
   "metadata": {},
   "source": [
    "Start by importing the PyTorch components that we'll be using:"
   ]
  },
  {
   "cell_type": "code",
   "execution_count": 1,
   "metadata": {},
   "outputs": [],
   "source": [
    "import torch\n",
    "import torch.nn as nn\n",
    "import torch.nn.functional as F\n",
    "from torchvision import datasets, transforms\n",
    "from torch.autograd import Variable\n",
    "import torch.utils.data as Data"
   ]
  },
  {
   "cell_type": "markdown",
   "metadata": {},
   "source": [
    "Then some standard library imports:"
   ]
  },
  {
   "cell_type": "code",
   "execution_count": 2,
   "metadata": {},
   "outputs": [],
   "source": [
    "import numpy as np\n",
    "import pandas as pd\n",
    "import pylab as pl\n",
    "import time"
   ]
  },
  {
   "cell_type": "markdown",
   "metadata": {},
   "source": [
    "---\n",
    "\n",
    "This next cell contains all the user defined variables for running our network training."
   ]
  },
  {
   "cell_type": "code",
   "execution_count": 3,
   "metadata": {},
   "outputs": [],
   "source": [
    "samples       = ['ggH125_ZZ4lep','llll'] # datafiles for input\n",
    "epochs        = 100                      # number of training epochs\n",
    "batch_size    = 32                       # number of samples per batch\n",
    "input_size    = 2                        # The number of features\n",
    "num_classes   = 2                        # The number of output classes. In this case: [star, galaxy, quasar]\n",
    "hidden_size   = 5                        # The number of nodes at the hidden layer\n",
    "learning_rate = 1e-3                     # The speed of convergence\n",
    "verbose       = True                     # flag for printing out stats at each epoch"
   ]
  },
  {
   "cell_type": "markdown",
   "metadata": {},
   "source": [
    "---\n",
    "\n",
    "First import the data and apply the same pre-processing as outlined in the [ML Tutorial](https://hsf-training.github.io/hsf-training-ml-webpage/)."
   ]
  },
  {
   "cell_type": "code",
   "execution_count": 4,
   "metadata": {},
   "outputs": [],
   "source": [
    "DataFrames = {} # define empty dictionary to hold dataframes\n",
    "for s in samples: # loop over samples\n",
    "    DataFrames[s] = pd.read_csv('./'+s+\".csv\") # read .csv file"
   ]
  },
  {
   "cell_type": "code",
   "execution_count": 5,
   "metadata": {},
   "outputs": [],
   "source": [
    "# cut on lepton charge\n",
    "def cut_lep_charge(lep_charge_0,lep_charge_1,lep_charge_2,lep_charge_3):\n",
    "# only want to keep events where sum of lepton charges is 0\n",
    "    sum_lep_charge = lep_charge_0 + lep_charge_1 + lep_charge_2 + lep_charge_3\n",
    "    if sum_lep_charge==0: return True\n",
    "    else: return False\n",
    "\n",
    "# apply cut on lepton charge\n",
    "for s in samples:\n",
    "    # cut on lepton charge using the function cut_lep_charge defined above\n",
    "    DataFrames[s] = DataFrames[s][ np.vectorize(cut_lep_charge)(DataFrames[s].lep_charge_0,\n",
    "                                                    \t    DataFrames[s].lep_charge_1,\n",
    "                                                    \t    DataFrames[s].lep_charge_2,\n",
    "                                                    \t    DataFrames[s].lep_charge_3) ]"
   ]
  },
  {
   "cell_type": "markdown",
   "metadata": {},
   "source": [
    "---\n",
    "\n",
    "Then create the *feature* and *target* data arrays that are needed to train the machine learning model. Again this follows the [ML tutorial](https://hsf-training.github.io/hsf-training-ml-webpage/)."
   ]
  },
  {
   "cell_type": "code",
   "execution_count": 6,
   "metadata": {},
   "outputs": [],
   "source": [
    "ML_inputs = ['lep_pt_1','lep_pt_2'] # list of features for ML model"
   ]
  },
  {
   "cell_type": "code",
   "execution_count": 7,
   "metadata": {},
   "outputs": [],
   "source": [
    "all_MC = [] # define empty list that will contain all features for the MC\n",
    "\n",
    "for s in samples: # loop over the different samples\n",
    "    if s!='data': # only MC should pass this\n",
    "        all_MC.append(DataFrames[s][ML_inputs]) # append the MC dataframe to the list containing all MC features\n",
    "        \n",
    "X = np.concatenate(all_MC) # concatenate the list of MC dataframes into a single 2D array of features, called X"
   ]
  },
  {
   "cell_type": "code",
   "execution_count": 8,
   "metadata": {},
   "outputs": [],
   "source": [
    "all_y = [] # define empty list that will contain labels whether an event in signal or background\n",
    "\n",
    "for s in samples: # loop over the different samples\n",
    "    if s!='data': # only MC should pass this\n",
    "        if 'H125' in s: # only signal MC should pass this\n",
    "            all_y.append(np.ones(DataFrames[s].shape[0])) # signal events are labelled with 1\n",
    "        else: # only background MC should pass this\n",
    "            all_y.append(np.zeros(DataFrames[s].shape[0])) # background events are labelled 0\n",
    "            \n",
    "y = np.concatenate(all_y) # concatenate the list of lables into a single 1D array of labels, called y"
   ]
  },
  {
   "cell_type": "code",
   "execution_count": 9,
   "metadata": {},
   "outputs": [],
   "source": [
    "from sklearn.model_selection import train_test_split\n",
    "\n",
    "# make train and test sets\n",
    "X_train, X_test, y_train, y_test = train_test_split(X, y, \n",
    "                                                  test_size=0.33, \n",
    "                                                  random_state=492 ) # set the random seed for reproducibility"
   ]
  },
  {
   "cell_type": "code",
   "execution_count": 10,
   "metadata": {},
   "outputs": [],
   "source": [
    "from sklearn.preprocessing import StandardScaler\n",
    "\n",
    "scaler = StandardScaler() # initialise StandardScaler\n",
    "\n",
    "scaler.fit(X_train) # Fit only to the training data\n",
    "\n",
    "X_train = scaler.transform(X_train)\n",
    "X_test = scaler.transform(X_test)\n",
    "X = scaler.transform(X)"
   ]
  },
  {
   "cell_type": "markdown",
   "metadata": {},
   "source": [
    "---\n",
    "\n",
    "Here we're making use of the PyTorch `DataLoader` functionality. This is going to be useful later when we want to load data during our training loop."
   ]
  },
  {
   "cell_type": "code",
   "execution_count": 11,
   "metadata": {},
   "outputs": [],
   "source": [
    "X_train  = torch.tensor(X_train, dtype=torch.float)\n",
    "y_train  = torch.tensor(y_train, dtype=torch.long)\n",
    "\n",
    "X_train, y_train = Variable(X_train), Variable(y_train)\n",
    "\n",
    "x_valid, y_valid = X_train[:100], y_train[:100]\n",
    "x_train_nn, y_train_nn = X_train[100:], y_train[100:]\n",
    "\n",
    "train_data = Data.TensorDataset(x_train_nn, y_train_nn)\n",
    "valid_data = Data.TensorDataset(x_valid, y_valid)\n",
    "\n",
    "train_loader = Data.DataLoader(dataset=train_data,\n",
    "                               batch_size=batch_size,\n",
    "                               shuffle=True)\n",
    "\n",
    "valid_loader = Data.DataLoader(dataset=valid_data,\n",
    "                               batch_size=batch_size,\n",
    "                               shuffle=True)"
   ]
  },
  {
   "cell_type": "markdown",
   "metadata": {},
   "source": [
    "---\n",
    "\n",
    "Here we define the neural network that we'll be using. This is a simple fully-connected neural network, otherwise known as a *multi-layer perceptron* (MLP). It has two hidden layers, both with the same number of neurons (`hidden_dim`). The order of the layers for a forward pass through the network is specified in the `forward` function. You can see that each fully-connected layer is followed by a [ReLU activation function](https://ml-cheatsheet.readthedocs.io/en/latest/activation_functions.html#relu). The function then returns an unnormalised vector of outputs (`x`; also referred to as *logits*) and a vector of normalised \"probabilities\" for `x`, calculated using the [SoftMax function](https://ml-cheatsheet.readthedocs.io/en/latest/activation_functions.html#softmax)."
   ]
  },
  {
   "cell_type": "code",
   "execution_count": 12,
   "metadata": {},
   "outputs": [],
   "source": [
    "class Classifier_MLP(nn.Module):\n",
    "    def __init__(self, in_dim, hidden_dim, out_dim):\n",
    "        super().__init__()\n",
    "        \n",
    "        self.h1  = nn.Linear(in_dim, hidden_dim)\n",
    "        self.h2  = nn.Linear(hidden_dim, hidden_dim)\n",
    "        self.out = nn.Linear(hidden_dim, out_dim)\n",
    "        self.out_dim = out_dim\n",
    "\n",
    "    def forward(self, x):\n",
    "        \n",
    "        x = F.relu(self.h1(x))\n",
    "        x = F.relu(self.h2(x))\n",
    "        x = self.out(x)\n",
    "        \n",
    "        return x, F.softmax(x, dim=1)"
   ]
  },
  {
   "cell_type": "markdown",
   "metadata": {},
   "source": [
    "Next we need to specify that we're using the `Classifier_MLP` model that we specified above and pass it the parameters it requires (`input_size`, `hidden_dim`, `out_dim`). \n",
    "\n",
    "We also specify which optimizer we'll use to train our network. Here I've implemented a classic [Stochastic Gradient Descent](https://en.wikipedia.org/wiki/Stochastic_gradient_descent) (SGD) optimiser, but there are [a wide range of optimizers available in the PyTorch library](https://pytorch.org/docs/stable/optim.html#algorithms). For most recent applications the [Adam](https://arxiv.org/abs/1412.6980) optimizer is used."
   ]
  },
  {
   "cell_type": "code",
   "execution_count": 13,
   "metadata": {},
   "outputs": [],
   "source": [
    "model = Classifier_MLP(in_dim=input_size, hidden_dim=hidden_size, out_dim=num_classes)\n",
    "optimizer = torch.optim.SGD(model.parameters(), lr=learning_rate)"
   ]
  },
  {
   "cell_type": "markdown",
   "metadata": {},
   "source": [
    "The next cell contains the training loop for optimizing the parameters of our neural network. To train the network we loop through the full training data set multiple times. Each loop is called an *epoch*. However, we don't read the full dataset all at once in an individual epoch, instead we split it into *mini-batches* and we use the optimization algorithm to update the network parameters after each batch. \n",
    "\n",
    "The `train_loader` that we specified earlier using the PyTorch `DataLoader` breaks up the full dataset into batches automatically and allows us to load the feature data (`x_train`) and the label data (`y_train`) for each batch separately. Moreover, because we specified `shuffle=True` when we defined the `train_loader` the full datasets will be shuffled on each epoch, so that we aren't optimising over an identical sequence of samples in every loop. \n",
    "\n",
    "PyTorch models (`nn.Module`) can be set into either training or evaluation mode. For the loop we've defined here this setting does not make any difference as we do not use any layers that perform differently during evaluation (e.g. dropout, batch normalisation, etc. ) However, it's included here for completeness. "
   ]
  },
  {
   "cell_type": "code",
   "execution_count": 14,
   "metadata": {},
   "outputs": [
    {
     "name": "stdout",
     "output_type": "stream",
     "text": [
      "Epoch: 0, Train Loss: 0.498926\n",
      "Validation Loss: 0.511915, Validation Accuracy: 0.680000\n",
      "Epoch: 1, Train Loss: 0.416348\n",
      "Validation Loss: 0.458114, Validation Accuracy: 0.680000\n",
      "Epoch: 2, Train Loss: 0.404610\n",
      "Validation Loss: 0.450099, Validation Accuracy: 0.680000\n",
      "Epoch: 3, Train Loss: 0.401071\n",
      "Validation Loss: 0.444710, Validation Accuracy: 0.680000\n",
      "Epoch: 4, Train Loss: 0.397758\n",
      "Validation Loss: 0.439354, Validation Accuracy: 0.730000\n",
      "Epoch: 5, Train Loss: 0.394308\n",
      "Validation Loss: 0.431247, Validation Accuracy: 0.810000\n",
      "Epoch: 6, Train Loss: 0.390859\n",
      "Validation Loss: 0.425267, Validation Accuracy: 0.790000\n",
      "Epoch: 7, Train Loss: 0.387606\n",
      "Validation Loss: 0.418356, Validation Accuracy: 0.800000\n",
      "Epoch: 8, Train Loss: 0.384678\n",
      "Validation Loss: 0.414951, Validation Accuracy: 0.810000\n",
      "Epoch: 9, Train Loss: 0.382122\n",
      "Validation Loss: 0.409372, Validation Accuracy: 0.800000\n",
      "Epoch: 10, Train Loss: 0.380047\n",
      "Validation Loss: 0.408139, Validation Accuracy: 0.790000\n",
      "Epoch: 11, Train Loss: 0.378408\n",
      "Validation Loss: 0.408740, Validation Accuracy: 0.790000\n",
      "Epoch: 12, Train Loss: 0.377062\n",
      "Validation Loss: 0.405930, Validation Accuracy: 0.790000\n",
      "Epoch: 13, Train Loss: 0.375885\n",
      "Validation Loss: 0.406484, Validation Accuracy: 0.790000\n",
      "Epoch: 14, Train Loss: 0.374881\n",
      "Validation Loss: 0.404327, Validation Accuracy: 0.780000\n",
      "Epoch: 15, Train Loss: 0.374069\n",
      "Validation Loss: 0.402421, Validation Accuracy: 0.780000\n",
      "Epoch: 16, Train Loss: 0.373488\n",
      "Validation Loss: 0.403074, Validation Accuracy: 0.790000\n",
      "Epoch: 17, Train Loss: 0.373095\n",
      "Validation Loss: 0.403104, Validation Accuracy: 0.790000\n",
      "Epoch: 18, Train Loss: 0.372848\n",
      "Validation Loss: 0.399851, Validation Accuracy: 0.790000\n",
      "Epoch: 19, Train Loss: 0.372690\n",
      "Validation Loss: 0.401707, Validation Accuracy: 0.790000\n",
      "Epoch: 20, Train Loss: 0.372563\n",
      "Validation Loss: 0.400092, Validation Accuracy: 0.790000\n",
      "Epoch: 21, Train Loss: 0.372473\n",
      "Validation Loss: 0.398732, Validation Accuracy: 0.790000\n",
      "Epoch: 22, Train Loss: 0.372382\n",
      "Validation Loss: 0.398913, Validation Accuracy: 0.790000\n",
      "Epoch: 23, Train Loss: 0.372313\n",
      "Validation Loss: 0.399596, Validation Accuracy: 0.790000\n",
      "Epoch: 24, Train Loss: 0.372224\n",
      "Validation Loss: 0.400805, Validation Accuracy: 0.800000\n",
      "Epoch: 25, Train Loss: 0.372146\n",
      "Validation Loss: 0.397953, Validation Accuracy: 0.800000\n",
      "Epoch: 26, Train Loss: 0.372072\n",
      "Validation Loss: 0.397959, Validation Accuracy: 0.810000\n",
      "Epoch: 27, Train Loss: 0.371978\n",
      "Validation Loss: 0.397651, Validation Accuracy: 0.800000\n",
      "Epoch: 28, Train Loss: 0.371878\n",
      "Validation Loss: 0.397248, Validation Accuracy: 0.800000\n",
      "Epoch: 29, Train Loss: 0.371766\n",
      "Validation Loss: 0.396437, Validation Accuracy: 0.800000\n",
      "Epoch: 30, Train Loss: 0.371648\n",
      "Validation Loss: 0.398278, Validation Accuracy: 0.800000\n",
      "Epoch: 31, Train Loss: 0.371582\n",
      "Validation Loss: 0.394896, Validation Accuracy: 0.800000\n",
      "Epoch: 32, Train Loss: 0.371501\n",
      "Validation Loss: 0.397031, Validation Accuracy: 0.800000\n",
      "Epoch: 33, Train Loss: 0.371451\n",
      "Validation Loss: 0.395674, Validation Accuracy: 0.790000\n",
      "Epoch: 34, Train Loss: 0.371406\n",
      "Validation Loss: 0.395211, Validation Accuracy: 0.800000\n",
      "Epoch: 35, Train Loss: 0.371367\n",
      "Validation Loss: 0.394831, Validation Accuracy: 0.800000\n",
      "Epoch: 36, Train Loss: 0.371347\n",
      "Validation Loss: 0.395625, Validation Accuracy: 0.800000\n",
      "Epoch: 37, Train Loss: 0.371314\n",
      "Validation Loss: 0.394434, Validation Accuracy: 0.800000\n",
      "Epoch: 38, Train Loss: 0.371300\n",
      "Validation Loss: 0.394564, Validation Accuracy: 0.800000\n",
      "Epoch: 39, Train Loss: 0.371288\n",
      "Validation Loss: 0.395695, Validation Accuracy: 0.790000\n",
      "Epoch: 40, Train Loss: 0.371273\n",
      "Validation Loss: 0.393406, Validation Accuracy: 0.800000\n",
      "Epoch: 41, Train Loss: 0.371262\n",
      "Validation Loss: 0.393803, Validation Accuracy: 0.800000\n",
      "Epoch: 42, Train Loss: 0.371248\n",
      "Validation Loss: 0.393218, Validation Accuracy: 0.800000\n",
      "Epoch: 43, Train Loss: 0.371234\n",
      "Validation Loss: 0.392953, Validation Accuracy: 0.800000\n",
      "Epoch: 44, Train Loss: 0.371235\n",
      "Validation Loss: 0.393192, Validation Accuracy: 0.800000\n",
      "Epoch: 45, Train Loss: 0.371221\n",
      "Validation Loss: 0.394730, Validation Accuracy: 0.800000\n",
      "Epoch: 46, Train Loss: 0.371216\n",
      "Validation Loss: 0.396127, Validation Accuracy: 0.810000\n",
      "Epoch: 47, Train Loss: 0.371212\n",
      "Validation Loss: 0.395781, Validation Accuracy: 0.820000\n",
      "Epoch: 48, Train Loss: 0.371194\n",
      "Validation Loss: 0.392518, Validation Accuracy: 0.800000\n",
      "Epoch: 49, Train Loss: 0.371201\n",
      "Validation Loss: 0.392531, Validation Accuracy: 0.800000\n",
      "Epoch: 50, Train Loss: 0.371185\n",
      "Validation Loss: 0.396421, Validation Accuracy: 0.810000\n",
      "Epoch: 51, Train Loss: 0.371194\n",
      "Validation Loss: 0.394397, Validation Accuracy: 0.810000\n",
      "Epoch: 52, Train Loss: 0.371167\n",
      "Validation Loss: 0.391127, Validation Accuracy: 0.790000\n",
      "Epoch: 53, Train Loss: 0.371174\n",
      "Validation Loss: 0.395761, Validation Accuracy: 0.800000\n",
      "Epoch: 54, Train Loss: 0.371177\n",
      "Validation Loss: 0.396186, Validation Accuracy: 0.820000\n",
      "Epoch: 55, Train Loss: 0.371151\n",
      "Validation Loss: 0.394741, Validation Accuracy: 0.800000\n",
      "Epoch: 56, Train Loss: 0.371159\n",
      "Validation Loss: 0.395133, Validation Accuracy: 0.810000\n",
      "Epoch: 57, Train Loss: 0.371156\n",
      "Validation Loss: 0.394734, Validation Accuracy: 0.800000\n",
      "Epoch: 58, Train Loss: 0.371157\n",
      "Validation Loss: 0.393209, Validation Accuracy: 0.800000\n",
      "Epoch: 59, Train Loss: 0.371150\n",
      "Validation Loss: 0.392423, Validation Accuracy: 0.800000\n",
      "Epoch: 60, Train Loss: 0.371138\n",
      "Validation Loss: 0.392265, Validation Accuracy: 0.790000\n",
      "Epoch: 61, Train Loss: 0.371153\n",
      "Validation Loss: 0.394358, Validation Accuracy: 0.800000\n",
      "Epoch: 62, Train Loss: 0.371139\n",
      "Validation Loss: 0.395490, Validation Accuracy: 0.810000\n",
      "Epoch: 63, Train Loss: 0.371135\n",
      "Validation Loss: 0.395323, Validation Accuracy: 0.810000\n",
      "Epoch: 64, Train Loss: 0.371126\n",
      "Validation Loss: 0.392961, Validation Accuracy: 0.800000\n",
      "Epoch: 65, Train Loss: 0.371126\n",
      "Validation Loss: 0.393954, Validation Accuracy: 0.800000\n",
      "Epoch: 66, Train Loss: 0.371115\n",
      "Validation Loss: 0.395866, Validation Accuracy: 0.810000\n",
      "Epoch: 67, Train Loss: 0.371124\n",
      "Validation Loss: 0.393922, Validation Accuracy: 0.810000\n",
      "Epoch: 68, Train Loss: 0.371101\n",
      "Validation Loss: 0.395263, Validation Accuracy: 0.820000\n",
      "Epoch: 69, Train Loss: 0.371112\n",
      "Validation Loss: 0.393938, Validation Accuracy: 0.810000\n",
      "Epoch: 70, Train Loss: 0.371091\n",
      "Validation Loss: 0.392481, Validation Accuracy: 0.800000\n",
      "Epoch: 71, Train Loss: 0.371097\n",
      "Validation Loss: 0.395137, Validation Accuracy: 0.800000\n",
      "Epoch: 72, Train Loss: 0.371099\n",
      "Validation Loss: 0.393306, Validation Accuracy: 0.800000\n",
      "Epoch: 73, Train Loss: 0.371100\n",
      "Validation Loss: 0.393724, Validation Accuracy: 0.800000\n",
      "Epoch: 74, Train Loss: 0.371084\n",
      "Validation Loss: 0.391682, Validation Accuracy: 0.790000\n",
      "Epoch: 75, Train Loss: 0.371085\n",
      "Validation Loss: 0.393999, Validation Accuracy: 0.800000\n",
      "Epoch: 76, Train Loss: 0.371090\n",
      "Validation Loss: 0.393111, Validation Accuracy: 0.800000\n",
      "Epoch: 77, Train Loss: 0.371075\n",
      "Validation Loss: 0.392272, Validation Accuracy: 0.800000\n",
      "Epoch: 78, Train Loss: 0.371070\n",
      "Validation Loss: 0.393264, Validation Accuracy: 0.800000\n",
      "Epoch: 79, Train Loss: 0.371070\n",
      "Validation Loss: 0.394470, Validation Accuracy: 0.800000\n",
      "Epoch: 80, Train Loss: 0.371061\n",
      "Validation Loss: 0.394647, Validation Accuracy: 0.800000\n",
      "Epoch: 81, Train Loss: 0.371049\n",
      "Validation Loss: 0.395279, Validation Accuracy: 0.820000\n",
      "Epoch: 82, Train Loss: 0.371032\n",
      "Validation Loss: 0.393097, Validation Accuracy: 0.800000\n",
      "Epoch: 83, Train Loss: 0.371030\n",
      "Validation Loss: 0.392684, Validation Accuracy: 0.800000\n",
      "Epoch: 84, Train Loss: 0.371014\n",
      "Validation Loss: 0.395526, Validation Accuracy: 0.820000\n",
      "Epoch: 85, Train Loss: 0.371027\n",
      "Validation Loss: 0.395207, Validation Accuracy: 0.820000\n",
      "Epoch: 86, Train Loss: 0.371027\n",
      "Validation Loss: 0.394220, Validation Accuracy: 0.810000\n",
      "Epoch: 87, Train Loss: 0.371019\n",
      "Validation Loss: 0.393596, Validation Accuracy: 0.800000\n",
      "Epoch: 88, Train Loss: 0.371010\n",
      "Validation Loss: 0.394645, Validation Accuracy: 0.820000\n",
      "Epoch: 89, Train Loss: 0.371002\n",
      "Validation Loss: 0.394557, Validation Accuracy: 0.810000\n",
      "Epoch: 90, Train Loss: 0.370994\n",
      "Validation Loss: 0.394460, Validation Accuracy: 0.810000\n",
      "Epoch: 91, Train Loss: 0.370985\n",
      "Validation Loss: 0.393762, Validation Accuracy: 0.800000\n",
      "Epoch: 92, Train Loss: 0.370990\n",
      "Validation Loss: 0.394395, Validation Accuracy: 0.820000\n"
     ]
    },
    {
     "name": "stdout",
     "output_type": "stream",
     "text": [
      "Epoch: 93, Train Loss: 0.370982\n",
      "Validation Loss: 0.393510, Validation Accuracy: 0.800000\n",
      "Epoch: 94, Train Loss: 0.370969\n",
      "Validation Loss: 0.395051, Validation Accuracy: 0.810000\n",
      "Epoch: 95, Train Loss: 0.370968\n",
      "Validation Loss: 0.394267, Validation Accuracy: 0.810000\n",
      "Epoch: 96, Train Loss: 0.370970\n",
      "Validation Loss: 0.394497, Validation Accuracy: 0.810000\n",
      "Epoch: 97, Train Loss: 0.370955\n",
      "Validation Loss: 0.392335, Validation Accuracy: 0.810000\n",
      "Epoch: 98, Train Loss: 0.370955\n",
      "Validation Loss: 0.392337, Validation Accuracy: 0.810000\n",
      "Epoch: 99, Train Loss: 0.370944\n",
      "Validation Loss: 0.393667, Validation Accuracy: 0.820000\n",
      "Finished Training\n",
      "Final validation error:  18.000000000000004 %\n",
      "Run time [s]:  1025.5836069583893\n"
     ]
    }
   ],
   "source": [
    "start = time.time()\n",
    "\n",
    "_results = []\n",
    "for epoch in range(epochs):  # loop over the dataset multiple times\n",
    "\n",
    "    # training loop for this epoch\n",
    "    model.train() # set the model into training mode\n",
    "    \n",
    "    train_loss = 0.\n",
    "    for batch, (x_train, y_train) in enumerate(train_loader):\n",
    "        \n",
    "        model.zero_grad()\n",
    "        out, prob = model(x_train)\n",
    "        \n",
    "        loss = F.cross_entropy(out, y_train)\n",
    "        \n",
    "        loss.backward()\n",
    "        optimizer.step()\n",
    "        \n",
    "        train_loss += loss.item() * x_train.size(0)\n",
    "    \n",
    "    train_loss/= len(train_loader.dataset)\n",
    "\n",
    "    if verbose:\n",
    "        print('Epoch: {}, Train Loss: {:4f}'.format(epoch, train_loss))\n",
    "\n",
    "    # validation loop for this epoch:\n",
    "    model.eval() # set the model into evaluation mode\n",
    "    with torch.no_grad():  # turn off the gradient calculations\n",
    "        \n",
    "        correct = 0; valid_loss = 0\n",
    "        for i, (x_valid, y_valid) in enumerate(valid_loader):\n",
    "            \n",
    "            out, prob = model(x_valid)\n",
    "            loss = F.cross_entropy(out, y_valid)\n",
    "            \n",
    "            valid_loss += loss.item() * x_valid.size(0)\n",
    "            \n",
    "            preds = prob.argmax(dim=1, keepdim=True)\n",
    "            correct += preds.eq(y_valid.view_as(preds)).sum().item()\n",
    "            \n",
    "        valid_loss /= len(valid_loader.dataset)\n",
    "        accuracy = correct / len(valid_loader.dataset)\n",
    "\n",
    "    if verbose:\n",
    "        print('Validation Loss: {:4f}, Validation Accuracy: {:4f}'.format(valid_loss, accuracy))\n",
    "\n",
    "    # create output row:\n",
    "    _results.append([epoch, train_loss, valid_loss, accuracy])\n",
    "\n",
    "results = np.array(_results)\n",
    "print('Finished Training')\n",
    "print(\"Final validation error: \",100.*(1 - accuracy),\"%\")\n",
    "\n",
    "end = time.time()\n",
    "print(\"Run time [s]: \",end-start)"
   ]
  },
  {
   "cell_type": "code",
   "execution_count": 15,
   "metadata": {},
   "outputs": [
    {
     "name": "stdout",
     "output_type": "stream",
     "text": [
      "(100, 4)\n"
     ]
    },
    {
     "data": {
      "image/png": "[encoded data removed]",
      "text/plain": [
       "<Figure size 432x288 with 1 Axes>"
      ]
     },
     "metadata": {
      "needs_background": "light"
     },
     "output_type": "display_data"
    }
   ],
   "source": [
    "print(results.shape)\n",
    "\n",
    "pl.subplot(111)\n",
    "pl.plot(results[:,0],results[:,1], label=\"training\")\n",
    "pl.plot(results[:,0],results[:,2], label=\"validation\")\n",
    "pl.xlabel(\"Epoch\")\n",
    "pl.ylabel(\"Loss\")\n",
    "pl.legend()\n",
    "pl.show()"
   ]
  },
  {
   "cell_type": "code",
   "execution_count": null,
   "metadata": {},
   "outputs": [],
   "source": []
  }
 ],
 "metadata": {
  "kernelspec": {
   "display_name": "Python 3",
   "language": "python",
   "name": "python3"
  },
  "language_info": {
   "codemirror_mode": {
    "name": "ipython",
    "version": 3
   },
   "file_extension": ".py",
   "mimetype": "text/x-python",
   "name": "python",
   "nbconvert_exporter": "python",
   "pygments_lexer": "ipython3",
   "version": "3.6.7"
  }
 },
 "nbformat": 4,
 "nbformat_minor": 4
}
